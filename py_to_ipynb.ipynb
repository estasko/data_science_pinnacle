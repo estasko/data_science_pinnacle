{
 "cells": [
  {
   "cell_type": "code",
   "execution_count": 1,
   "id": "a852d7a4-7230-4d22-a342-3527f65354ba",
   "metadata": {},
   "outputs": [
    {
     "name": "stdout",
     "output_type": "stream",
     "text": [
      "[jupytext] Reading main.py in format py\n",
      "[jupytext] Writing main.ipynb (destination file replaced [use --update to preserve cell outputs and ids])\n"
     ]
    }
   ],
   "source": [
    "!jupytext --to notebook main.py"
   ]
  },
  {
   "cell_type": "code",
   "execution_count": null,
   "id": "c730d64f-8600-4bef-ad64-a533a2cdee04",
   "metadata": {},
   "outputs": [],
   "source": []
  }
 ],
 "metadata": {
  "kernelspec": {
   "display_name": "Python [conda env:base] *",
   "language": "python",
   "name": "conda-base-py"
  },
  "language_info": {
   "codemirror_mode": {
    "name": "ipython",
    "version": 3
   },
   "file_extension": ".py",
   "mimetype": "text/x-python",
   "name": "python",
   "nbconvert_exporter": "python",
   "pygments_lexer": "ipython3",
   "version": "3.11.4"
  }
 },
 "nbformat": 4,
 "nbformat_minor": 5
}
