{
 "cells": [
  {
   "cell_type": "code",
   "execution_count": null,
   "id": "e62c47d2",
   "metadata": {
    "lines_to_next_cell": 0
   },
   "outputs": [],
   "source": [
    "\"\"\"\n",
    "Created on Wed Mar 26 14:48:37 2025\n",
    "\n",
    "@author: abbyhoward\n",
    "\"\"\"\n",
    "\n",
    "import pandas as pd\n",
    "import numpy as np\n",
    "from matplotlib import pyplot as plt"
   ]
  },
  {
   "cell_type": "code",
   "execution_count": null,
   "id": "1783b41c",
   "metadata": {
    "lines_to_next_cell": 0
   },
   "outputs": [],
   "source": [
    "#read in dataset\n",
    "data = pd.read_csv('Healthcare-Diabetes.csv', index_col= 'Id')\n",
    "\n",
    "#check for na \n",
    "data.isna().any()"
   ]
  },
  {
   "cell_type": "code",
   "execution_count": null,
   "id": "5c992897",
   "metadata": {},
   "outputs": [],
   "source": [
    "#see how many zero counts for each column\n",
    "(data == 0).sum()"
   ]
  }
 ],
 "metadata": {
  "jupytext": {
   "cell_metadata_filter": "-all",
   "encoding": "# -*- coding: utf-8 -*-",
   "executable": "/usr/bin/env python3",
   "main_language": "python",
   "notebook_metadata_filter": "-all"
  }
 },
 "nbformat": 4,
 "nbformat_minor": 5
}
