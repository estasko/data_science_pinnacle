{
 "cells": [
  {
   "cell_type": "code",
   "execution_count": 4,
   "id": "a852d7a4-7230-4d22-a342-3527f65354ba",
   "metadata": {},
   "outputs": [
    {
     "name": "stdout",
     "output_type": "stream",
     "text": [
      "Requirement already satisfied: jupytext in c:\\users\\arail\\anaconda3\\lib\\site-packages (1.16.7)\n",
      "Requirement already satisfied: markdown-it-py>=1.0 in c:\\users\\arail\\anaconda3\\lib\\site-packages (from jupytext) (2.2.0)\n",
      "Requirement already satisfied: mdit-py-plugins in c:\\users\\arail\\anaconda3\\lib\\site-packages (from jupytext) (0.3.0)\n",
      "Requirement already satisfied: nbformat in c:\\users\\arail\\anaconda3\\lib\\site-packages (from jupytext) (5.7.0)\n",
      "Requirement already satisfied: packaging in c:\\users\\arail\\anaconda3\\lib\\site-packages (from jupytext) (23.0)\n",
      "Requirement already satisfied: pyyaml in c:\\users\\arail\\anaconda3\\lib\\site-packages (from jupytext) (6.0.2)\n",
      "Requirement already satisfied: mdurl~=0.1 in c:\\users\\arail\\anaconda3\\lib\\site-packages (from markdown-it-py>=1.0->jupytext) (0.1.0)\n",
      "Requirement already satisfied: fastjsonschema in c:\\users\\arail\\anaconda3\\lib\\site-packages (from nbformat->jupytext) (2.16.2)\n",
      "Requirement already satisfied: jsonschema>=2.6 in c:\\users\\arail\\anaconda3\\lib\\site-packages (from nbformat->jupytext) (4.23.0)\n",
      "Requirement already satisfied: jupyter-core in c:\\users\\arail\\anaconda3\\lib\\site-packages (from nbformat->jupytext) (5.3.0)\n",
      "Requirement already satisfied: traitlets>=5.1 in c:\\users\\arail\\anaconda3\\lib\\site-packages (from nbformat->jupytext) (5.7.1)\n",
      "Requirement already satisfied: attrs>=22.2.0 in c:\\users\\arail\\anaconda3\\lib\\site-packages (from jsonschema>=2.6->nbformat->jupytext) (24.3.0)\n",
      "Requirement already satisfied: jsonschema-specifications>=2023.03.6 in c:\\users\\arail\\anaconda3\\lib\\site-packages (from jsonschema>=2.6->nbformat->jupytext) (2023.7.1)\n",
      "Requirement already satisfied: referencing>=0.28.4 in c:\\users\\arail\\anaconda3\\lib\\site-packages (from jsonschema>=2.6->nbformat->jupytext) (0.30.2)\n",
      "Requirement already satisfied: rpds-py>=0.7.1 in c:\\users\\arail\\anaconda3\\lib\\site-packages (from jsonschema>=2.6->nbformat->jupytext) (0.22.3)\n",
      "Requirement already satisfied: platformdirs>=2.5 in c:\\users\\arail\\anaconda3\\lib\\site-packages (from jupyter-core->nbformat->jupytext) (3.10.0)\n",
      "Requirement already satisfied: pywin32>=300 in c:\\users\\arail\\anaconda3\\lib\\site-packages (from jupyter-core->nbformat->jupytext) (305.1)\n",
      "[jupytext] Reading main.py in format py\n",
      "[jupytext] Writing main.ipynb\n"
     ]
    }
   ],
   "source": [
    "!jupytext --to notebook main.py"
   ]
  },
  {
   "cell_type": "code",
   "execution_count": null,
   "id": "c730d64f-8600-4bef-ad64-a533a2cdee04",
   "metadata": {},
   "outputs": [],
   "source": []
  }
 ],
 "metadata": {
  "kernelspec": {
   "display_name": "Python [conda env:base] *",
   "language": "python",
   "name": "conda-base-py"
  },
  "language_info": {
   "codemirror_mode": {
    "name": "ipython",
    "version": 3
   },
   "file_extension": ".py",
   "mimetype": "text/x-python",
   "name": "python",
   "nbconvert_exporter": "python",
   "pygments_lexer": "ipython3",
   "version": "3.11.4"
  }
 },
 "nbformat": 4,
 "nbformat_minor": 5
}
